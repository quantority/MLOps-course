{
 "cells": [
  {
   "cell_type": "code",
   "execution_count": 4,
   "id": "362f7a85-5027-4f89-b312-356bc7186b52",
   "metadata": {},
   "outputs": [],
   "source": [
    "import os\n",
    "import numpy as np\n",
    "import pandas as pd\n",
    "\n",
    "import mlflow\n",
    "from mlflow.models import infer_signature\n",
    "\n",
    "from datetime import datetime, timedelta\n",
    "from sklearn.linear_model import LinearRegression\n",
    "from sklearn.model_selection import train_test_split\n",
    "from sklearn.metrics import mean_squared_error, median_absolute_error, r2_score\n",
    "from sklearn.preprocessing import StandardScaler\n",
    "from sklearn import datasets"
   ]
  },
  {
   "cell_type": "code",
   "execution_count": 2,
   "id": "4a28d796-5f75-4378-a7e2-b5291bf6e784",
   "metadata": {},
   "outputs": [
    {
     "data": {
      "text/plain": [
       "'http://mlflow-service:5000'"
      ]
     },
     "execution_count": 2,
     "metadata": {},
     "output_type": "execute_result"
    }
   ],
   "source": [
    "os.getenv(\"MLFLOW_TRACKING_URI\")"
   ]
  },
  {
   "cell_type": "code",
   "execution_count": 5,
   "id": "5223682b-1897-4862-954e-65e8316f0703",
   "metadata": {},
   "outputs": [],
   "source": [
    "# Получим датасет California housing\n",
    "housing = datasets.fetch_california_housing(as_frame=True)\n",
    "# Объединим фичи и таргет в один np.array\n",
    "data = pd.concat([housing[\"data\"], pd.DataFrame(housing[\"target\"])], axis=1)"
   ]
  },
  {
   "cell_type": "code",
   "execution_count": 7,
   "id": "d3e5875c-1fec-4176-8593-bac16f85f080",
   "metadata": {},
   "outputs": [],
   "source": [
    "FEATURES = [\n",
    "    \"MedInc\", \"HouseAge\", \"AveRooms\", \"AveBedrms\", \"Population\", \"AveOccup\",\n",
    "    \"Latitude\", \"Longitude\"\n",
    "]\n",
    "TARGET = \"MedHouseVal\""
   ]
  },
  {
   "cell_type": "code",
   "execution_count": 8,
   "id": "4e603b7e-a7b3-4579-8e43-44b0c18947c5",
   "metadata": {},
   "outputs": [],
   "source": [
    "# Сделать препроцессинг\n",
    "# Разделить на фичи и таргет\n",
    "X, y = data[FEATURES], data[TARGET]\n",
    "\n",
    "# Разделить данные на обучение и тест\n",
    "X_train, X_test, y_train, y_test = train_test_split(\n",
    "    X, y, test_size=0.2, random_state=42\n",
    ")\n",
    "\n",
    "# Обучить стандартизатор на train\n",
    "scaler = StandardScaler()\n",
    "X_train_fitted = scaler.fit_transform(X_train)\n",
    "X_test_fitted = scaler.transform(X_test)\n",
    "\n",
    "# Обучить стандартизатор на train\n",
    "scaler = StandardScaler()\n",
    "X_train_fitted = scaler.fit_transform(X_train)\n",
    "X_test_fitted = scaler.transform(X_test)"
   ]
  },
  {
   "cell_type": "code",
   "execution_count": 12,
   "id": "23756f17-ea6e-4b8c-9f59-1375bc04462b",
   "metadata": {},
   "outputs": [
    {
     "name": "stderr",
     "output_type": "stream",
     "text": [
      "2025/04/16 10:41:37 INFO mlflow.tracking.fluent: Experiment with name '135293466297753618' does not exist. Creating a new experiment.\n"
     ]
    },
    {
     "data": {
      "text/plain": [
       "<Experiment: artifact_location='s3://mlops-webinar-example/mlflow/274632898515108876', creation_time=1744800097028, experiment_id='274632898515108876', last_update_time=1744800097028, lifecycle_stage='active', name='135293466297753618', tags={}>"
      ]
     },
     "execution_count": 12,
     "metadata": {},
     "output_type": "execute_result"
    }
   ],
   "source": [
    "name = \"MedHouseExp\"\n",
    "experiment_id = mlflow.create_experiment(name)\n",
    "mlflow.set_experiment(experiment_id)"
   ]
  },
  {
   "cell_type": "code",
   "execution_count": 13,
   "id": "0c02bb9a-ae75-4a58-ab2c-ddb7ade9ecf4",
   "metadata": {},
   "outputs": [
    {
     "data": {
      "application/vnd.jupyter.widget-view+json": {
       "model_id": "260cab37811c47cf9d7bb2cb835470de",
       "version_major": 2,
       "version_minor": 0
      },
      "text/plain": [
       "Downloading artifacts:   0%|          | 0/5 [00:00<?, ?it/s]"
      ]
     },
     "metadata": {},
     "output_type": "display_data"
    },
    {
     "name": "stderr",
     "output_type": "stream",
     "text": [
      "2025/04/16 10:45:35 INFO mlflow.models.evaluation.default_evaluator: Computing model predictions.\n",
      "/opt/conda/lib/python3.11/site-packages/sklearn/base.py:457: UserWarning: X has feature names, but LinearRegression was fitted without feature names\n",
      "  warnings.warn(\n",
      "/opt/conda/lib/python3.11/site-packages/sklearn/base.py:457: UserWarning: X has feature names, but LinearRegression was fitted without feature names\n",
      "  warnings.warn(\n",
      "2025/04/16 10:45:35 INFO mlflow.models.evaluation.default_evaluator: Testing metrics on first row...\n",
      "2025/04/16 10:45:35 WARNING mlflow.models.evaluation.default_evaluator: SHAP or matplotlib package is not installed, so model explainability insights will not be logged.\n",
      "2025/04/16 10:45:35 INFO mlflow.tracking._tracking_service.client: 🏃 View run my_first_run at: http://mlflow-service:5000/#/experiments/135293466297753618/runs/44800a57471a445e93469df93c7eef8a.\n",
      "2025/04/16 10:45:35 INFO mlflow.tracking._tracking_service.client: 🧪 View experiment at: http://mlflow-service:5000/#/experiments/135293466297753618.\n"
     ]
    }
   ],
   "source": [
    "with mlflow.start_run(run_name=\"my_first_run\", experiment_id = experiment_id):\n",
    "    # Обучить модель\n",
    "    model = LinearRegression()\n",
    "    model.fit(X_train_fitted, y_train)\n",
    "    y_pred = model.predict(X_test_fitted)\n",
    "\n",
    "    # Получить описание данных\n",
    "    signature = infer_signature(X_test_fitted, y_pred)\n",
    "    # Сохранить модель в артифактори\n",
    "    model_info = mlflow.sklearn.log_model(model, name, signature=signature)\n",
    "    # Сохранить метрики модели\n",
    "    mlflow.evaluate(\n",
    "        model_info.model_uri,\n",
    "        data=X_test_fitted,\n",
    "        targets=y_test.values,\n",
    "        model_type=\"regressor\",\n",
    "        evaluators=[\"default\"],\n",
    "    )"
   ]
  }
 ],
 "metadata": {
  "kernelspec": {
   "display_name": "Python 3 (ipykernel)",
   "language": "python",
   "name": "python3"
  },
  "language_info": {
   "codemirror_mode": {
    "name": "ipython",
    "version": 3
   },
   "file_extension": ".py",
   "mimetype": "text/x-python",
   "name": "python",
   "nbconvert_exporter": "python",
   "pygments_lexer": "ipython3",
   "version": "3.11.4"
  }
 },
 "nbformat": 4,
 "nbformat_minor": 5
}
